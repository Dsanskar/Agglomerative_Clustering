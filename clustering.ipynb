{
 "cells": [
  {
   "cell_type": "markdown",
   "id": "79db27c3-fdaf-4eb5-b9e3-f6fc808dc00a",
   "metadata": {},
   "source": [
    "# import data"
   ]
  },
  {
   "cell_type": "code",
   "execution_count": 1,
   "id": "6795ac60-1a1d-4196-98d8-fe6ccaa1a938",
   "metadata": {},
   "outputs": [],
   "source": [
    "import pandas as pd"
   ]
  },
  {
   "cell_type": "code",
   "execution_count": 2,
   "id": "7bc9d2d6-6ac7-4ffa-b4e6-4fb2c306636f",
   "metadata": {},
   "outputs": [],
   "source": [
    "import os\n",
    "os.chdir('D:/datasets/')"
   ]
  },
  {
   "cell_type": "code",
   "execution_count": 3,
   "id": "8b16c276-a345-4a7a-a831-cd08494ab132",
   "metadata": {},
   "outputs": [
    {
     "data": {
      "text/html": [
       "<div>\n",
       "<style scoped>\n",
       "    .dataframe tbody tr th:only-of-type {\n",
       "        vertical-align: middle;\n",
       "    }\n",
       "\n",
       "    .dataframe tbody tr th {\n",
       "        vertical-align: top;\n",
       "    }\n",
       "\n",
       "    .dataframe thead th {\n",
       "        text-align: right;\n",
       "    }\n",
       "</style>\n",
       "<table border=\"1\" class=\"dataframe\">\n",
       "  <thead>\n",
       "    <tr style=\"text-align: right;\">\n",
       "      <th></th>\n",
       "      <th>ID</th>\n",
       "      <th>Gender</th>\n",
       "      <th>Age</th>\n",
       "      <th>Annual</th>\n",
       "      <th>Spend</th>\n",
       "    </tr>\n",
       "  </thead>\n",
       "  <tbody>\n",
       "    <tr>\n",
       "      <th>0</th>\n",
       "      <td>1</td>\n",
       "      <td>Male</td>\n",
       "      <td>19</td>\n",
       "      <td>15</td>\n",
       "      <td>39</td>\n",
       "    </tr>\n",
       "    <tr>\n",
       "      <th>1</th>\n",
       "      <td>2</td>\n",
       "      <td>Male</td>\n",
       "      <td>21</td>\n",
       "      <td>15</td>\n",
       "      <td>81</td>\n",
       "    </tr>\n",
       "    <tr>\n",
       "      <th>2</th>\n",
       "      <td>3</td>\n",
       "      <td>Female</td>\n",
       "      <td>20</td>\n",
       "      <td>16</td>\n",
       "      <td>6</td>\n",
       "    </tr>\n",
       "    <tr>\n",
       "      <th>3</th>\n",
       "      <td>4</td>\n",
       "      <td>Female</td>\n",
       "      <td>23</td>\n",
       "      <td>16</td>\n",
       "      <td>77</td>\n",
       "    </tr>\n",
       "    <tr>\n",
       "      <th>4</th>\n",
       "      <td>5</td>\n",
       "      <td>Female</td>\n",
       "      <td>31</td>\n",
       "      <td>17</td>\n",
       "      <td>40</td>\n",
       "    </tr>\n",
       "    <tr>\n",
       "      <th>...</th>\n",
       "      <td>...</td>\n",
       "      <td>...</td>\n",
       "      <td>...</td>\n",
       "      <td>...</td>\n",
       "      <td>...</td>\n",
       "    </tr>\n",
       "    <tr>\n",
       "      <th>195</th>\n",
       "      <td>196</td>\n",
       "      <td>Female</td>\n",
       "      <td>35</td>\n",
       "      <td>120</td>\n",
       "      <td>79</td>\n",
       "    </tr>\n",
       "    <tr>\n",
       "      <th>196</th>\n",
       "      <td>197</td>\n",
       "      <td>Female</td>\n",
       "      <td>45</td>\n",
       "      <td>126</td>\n",
       "      <td>28</td>\n",
       "    </tr>\n",
       "    <tr>\n",
       "      <th>197</th>\n",
       "      <td>198</td>\n",
       "      <td>Male</td>\n",
       "      <td>32</td>\n",
       "      <td>126</td>\n",
       "      <td>74</td>\n",
       "    </tr>\n",
       "    <tr>\n",
       "      <th>198</th>\n",
       "      <td>199</td>\n",
       "      <td>Male</td>\n",
       "      <td>32</td>\n",
       "      <td>137</td>\n",
       "      <td>18</td>\n",
       "    </tr>\n",
       "    <tr>\n",
       "      <th>199</th>\n",
       "      <td>200</td>\n",
       "      <td>Male</td>\n",
       "      <td>30</td>\n",
       "      <td>137</td>\n",
       "      <td>83</td>\n",
       "    </tr>\n",
       "  </tbody>\n",
       "</table>\n",
       "<p>200 rows × 5 columns</p>\n",
       "</div>"
      ],
      "text/plain": [
       "      ID  Gender  Age  Annual  Spend\n",
       "0      1    Male   19      15     39\n",
       "1      2    Male   21      15     81\n",
       "2      3  Female   20      16      6\n",
       "3      4  Female   23      16     77\n",
       "4      5  Female   31      17     40\n",
       "..   ...     ...  ...     ...    ...\n",
       "195  196  Female   35     120     79\n",
       "196  197  Female   45     126     28\n",
       "197  198    Male   32     126     74\n",
       "198  199    Male   32     137     18\n",
       "199  200    Male   30     137     83\n",
       "\n",
       "[200 rows x 5 columns]"
      ]
     },
     "execution_count": 3,
     "metadata": {},
     "output_type": "execute_result"
    }
   ],
   "source": [
    "df=pd.read_csv('Mall_Customers.csv')\n",
    "df"
   ]
  },
  {
   "cell_type": "code",
   "execution_count": 5,
   "id": "4cf5ea51-ed93-4c8c-942d-fe1ebe7deaf1",
   "metadata": {},
   "outputs": [],
   "source": [
    "x=df[['Age','Annual','Spend']]"
   ]
  },
  {
   "cell_type": "code",
   "execution_count": 7,
   "id": "6c45829f-ca47-4cfa-9617-ff7b1da90914",
   "metadata": {},
   "outputs": [
    {
     "data": {
      "text/html": [
       "<div>\n",
       "<style scoped>\n",
       "    .dataframe tbody tr th:only-of-type {\n",
       "        vertical-align: middle;\n",
       "    }\n",
       "\n",
       "    .dataframe tbody tr th {\n",
       "        vertical-align: top;\n",
       "    }\n",
       "\n",
       "    .dataframe thead th {\n",
       "        text-align: right;\n",
       "    }\n",
       "</style>\n",
       "<table border=\"1\" class=\"dataframe\">\n",
       "  <thead>\n",
       "    <tr style=\"text-align: right;\">\n",
       "      <th></th>\n",
       "      <th>Age</th>\n",
       "      <th>Annual</th>\n",
       "      <th>Spend</th>\n",
       "    </tr>\n",
       "  </thead>\n",
       "  <tbody>\n",
       "    <tr>\n",
       "      <th>0</th>\n",
       "      <td>19</td>\n",
       "      <td>15</td>\n",
       "      <td>39</td>\n",
       "    </tr>\n",
       "    <tr>\n",
       "      <th>1</th>\n",
       "      <td>21</td>\n",
       "      <td>15</td>\n",
       "      <td>81</td>\n",
       "    </tr>\n",
       "    <tr>\n",
       "      <th>2</th>\n",
       "      <td>20</td>\n",
       "      <td>16</td>\n",
       "      <td>6</td>\n",
       "    </tr>\n",
       "    <tr>\n",
       "      <th>3</th>\n",
       "      <td>23</td>\n",
       "      <td>16</td>\n",
       "      <td>77</td>\n",
       "    </tr>\n",
       "    <tr>\n",
       "      <th>4</th>\n",
       "      <td>31</td>\n",
       "      <td>17</td>\n",
       "      <td>40</td>\n",
       "    </tr>\n",
       "    <tr>\n",
       "      <th>...</th>\n",
       "      <td>...</td>\n",
       "      <td>...</td>\n",
       "      <td>...</td>\n",
       "    </tr>\n",
       "    <tr>\n",
       "      <th>195</th>\n",
       "      <td>35</td>\n",
       "      <td>120</td>\n",
       "      <td>79</td>\n",
       "    </tr>\n",
       "    <tr>\n",
       "      <th>196</th>\n",
       "      <td>45</td>\n",
       "      <td>126</td>\n",
       "      <td>28</td>\n",
       "    </tr>\n",
       "    <tr>\n",
       "      <th>197</th>\n",
       "      <td>32</td>\n",
       "      <td>126</td>\n",
       "      <td>74</td>\n",
       "    </tr>\n",
       "    <tr>\n",
       "      <th>198</th>\n",
       "      <td>32</td>\n",
       "      <td>137</td>\n",
       "      <td>18</td>\n",
       "    </tr>\n",
       "    <tr>\n",
       "      <th>199</th>\n",
       "      <td>30</td>\n",
       "      <td>137</td>\n",
       "      <td>83</td>\n",
       "    </tr>\n",
       "  </tbody>\n",
       "</table>\n",
       "<p>200 rows × 3 columns</p>\n",
       "</div>"
      ],
      "text/plain": [
       "     Age  Annual  Spend\n",
       "0     19      15     39\n",
       "1     21      15     81\n",
       "2     20      16      6\n",
       "3     23      16     77\n",
       "4     31      17     40\n",
       "..   ...     ...    ...\n",
       "195   35     120     79\n",
       "196   45     126     28\n",
       "197   32     126     74\n",
       "198   32     137     18\n",
       "199   30     137     83\n",
       "\n",
       "[200 rows x 3 columns]"
      ]
     },
     "execution_count": 7,
     "metadata": {},
     "output_type": "execute_result"
    }
   ],
   "source": [
    "x"
   ]
  },
  {
   "cell_type": "markdown",
   "id": "01695f23-6ae3-43bc-b906-fafa0e240c84",
   "metadata": {},
   "source": [
    "# preprocesssing"
   ]
  },
  {
   "cell_type": "code",
   "execution_count": 11,
   "id": "786a4c37-88d2-40b7-baf8-6b3fe835e352",
   "metadata": {},
   "outputs": [],
   "source": [
    "from sklearn.preprocessing import StandardScaler\n",
    "ss=StandardScaler()"
   ]
  },
  {
   "cell_type": "code",
   "execution_count": 12,
   "id": "6097977d-8b71-47ef-ae81-7ef15918519a",
   "metadata": {},
   "outputs": [
    {
     "data": {
      "text/plain": [
       "array([[-1.42456879, -1.73899919, -0.43480148],\n",
       "       [-1.28103541, -1.73899919,  1.19570407],\n",
       "       [-1.3528021 , -1.70082976, -1.71591298],\n",
       "       [-1.13750203, -1.70082976,  1.04041783],\n",
       "       [-0.56336851, -1.66266033, -0.39597992],\n",
       "       [-1.20926872, -1.66266033,  1.00159627],\n",
       "       [-0.27630176, -1.62449091, -1.71591298],\n",
       "       [-1.13750203, -1.62449091,  1.70038436],\n",
       "       [ 1.80493225, -1.58632148, -1.83237767],\n",
       "       [-0.6351352 , -1.58632148,  0.84631002],\n",
       "       [ 2.02023231, -1.58632148, -1.4053405 ],\n",
       "       [-0.27630176, -1.58632148,  1.89449216],\n",
       "       [ 1.37433211, -1.54815205, -1.36651894],\n",
       "       [-1.06573534, -1.54815205,  1.04041783],\n",
       "       [-0.13276838, -1.54815205, -1.44416206],\n",
       "       [-1.20926872, -1.54815205,  1.11806095],\n",
       "       [-0.27630176, -1.50998262, -0.59008772],\n",
       "       [-1.3528021 , -1.50998262,  0.61338066],\n",
       "       [ 0.94373197, -1.43364376, -0.82301709],\n",
       "       [-0.27630176, -1.43364376,  1.8556706 ],\n",
       "       [-0.27630176, -1.39547433, -0.59008772],\n",
       "       [-0.99396865, -1.39547433,  0.88513158],\n",
       "       [ 0.51313183, -1.3573049 , -1.75473454],\n",
       "       [-0.56336851, -1.3573049 ,  0.88513158],\n",
       "       [ 1.08726535, -1.24279661, -1.4053405 ],\n",
       "       [-0.70690189, -1.24279661,  1.23452563],\n",
       "       [ 0.44136514, -1.24279661, -0.7065524 ],\n",
       "       [-0.27630176, -1.24279661,  0.41927286],\n",
       "       [ 0.08253169, -1.20462718, -0.74537397],\n",
       "       [-1.13750203, -1.20462718,  1.42863343],\n",
       "       [ 1.51786549, -1.16645776, -1.7935561 ],\n",
       "       [-1.28103541, -1.16645776,  0.88513158],\n",
       "       [ 1.01549866, -1.05194947, -1.7935561 ],\n",
       "       [-1.49633548, -1.05194947,  1.62274124],\n",
       "       [ 0.7284319 , -1.05194947, -1.4053405 ],\n",
       "       [-1.28103541, -1.05194947,  1.19570407],\n",
       "       [ 0.22606507, -1.01378004, -1.28887582],\n",
       "       [-0.6351352 , -1.01378004,  0.88513158],\n",
       "       [-0.20453507, -0.89927175, -0.93948177],\n",
       "       [-1.3528021 , -0.89927175,  0.96277471],\n",
       "       [ 1.87669894, -0.86110232, -0.59008772],\n",
       "       [-1.06573534, -0.86110232,  1.62274124],\n",
       "       [ 0.65666521, -0.82293289, -0.55126616],\n",
       "       [-0.56336851, -0.82293289,  0.41927286],\n",
       "       [ 0.7284319 , -0.82293289, -0.86183865],\n",
       "       [-1.06573534, -0.82293289,  0.5745591 ],\n",
       "       [ 0.80019859, -0.78476346,  0.18634349],\n",
       "       [-0.85043527, -0.78476346, -0.12422899],\n",
       "       [-0.70690189, -0.78476346, -0.3183368 ],\n",
       "       [-0.56336851, -0.78476346, -0.3183368 ],\n",
       "       [ 0.7284319 , -0.70842461,  0.06987881],\n",
       "       [-0.41983513, -0.70842461,  0.38045129],\n",
       "       [-0.56336851, -0.67025518,  0.14752193],\n",
       "       [ 1.4460988 , -0.67025518,  0.38045129],\n",
       "       [ 0.80019859, -0.67025518, -0.20187212],\n",
       "       [ 0.58489852, -0.67025518, -0.35715836],\n",
       "       [ 0.87196528, -0.63208575, -0.00776431],\n",
       "       [ 2.16376569, -0.63208575, -0.16305055],\n",
       "       [-0.85043527, -0.55574689,  0.03105725],\n",
       "       [ 1.01549866, -0.55574689, -0.16305055],\n",
       "       [ 2.23553238, -0.55574689,  0.22516505],\n",
       "       [-1.42456879, -0.55574689,  0.18634349],\n",
       "       [ 2.02023231, -0.51757746,  0.06987881],\n",
       "       [ 1.08726535, -0.51757746,  0.34162973],\n",
       "       [ 1.73316556, -0.47940803,  0.03105725],\n",
       "       [-1.49633548, -0.47940803,  0.34162973],\n",
       "       [ 0.29783176, -0.47940803, -0.00776431],\n",
       "       [ 2.091999  , -0.47940803, -0.08540743],\n",
       "       [-1.42456879, -0.47940803,  0.34162973],\n",
       "       [-0.49160182, -0.47940803, -0.12422899],\n",
       "       [ 2.23553238, -0.4412386 ,  0.18634349],\n",
       "       [ 0.58489852, -0.4412386 , -0.3183368 ],\n",
       "       [ 1.51786549, -0.40306917, -0.04658587],\n",
       "       [ 1.51786549, -0.40306917,  0.22516505],\n",
       "       [ 1.4460988 , -0.25039146, -0.12422899],\n",
       "       [-0.92220196, -0.25039146,  0.14752193],\n",
       "       [ 0.44136514, -0.25039146,  0.10870037],\n",
       "       [ 0.08253169, -0.25039146, -0.08540743],\n",
       "       [-1.13750203, -0.25039146,  0.06987881],\n",
       "       [ 0.7284319 , -0.25039146, -0.3183368 ],\n",
       "       [ 1.30256542, -0.25039146,  0.03105725],\n",
       "       [-0.06100169, -0.25039146,  0.18634349],\n",
       "       [ 2.02023231, -0.25039146, -0.35715836],\n",
       "       [ 0.51313183, -0.25039146, -0.24069368],\n",
       "       [-1.28103541, -0.25039146,  0.26398661],\n",
       "       [ 0.65666521, -0.25039146, -0.16305055],\n",
       "       [ 1.15903204, -0.13588317,  0.30280817],\n",
       "       [-1.20926872, -0.13588317,  0.18634349],\n",
       "       [-0.34806844, -0.09771374,  0.38045129],\n",
       "       [ 0.80019859, -0.09771374, -0.16305055],\n",
       "       [ 2.091999  , -0.05954431,  0.18634349],\n",
       "       [-1.49633548, -0.05954431, -0.35715836],\n",
       "       [ 0.65666521, -0.02137488, -0.04658587],\n",
       "       [ 0.08253169, -0.02137488, -0.39597992],\n",
       "       [-0.49160182, -0.02137488, -0.3183368 ],\n",
       "       [-1.06573534, -0.02137488,  0.06987881],\n",
       "       [ 0.58489852, -0.02137488, -0.12422899],\n",
       "       [-0.85043527, -0.02137488, -0.00776431],\n",
       "       [ 0.65666521,  0.01679455, -0.3183368 ],\n",
       "       [-1.3528021 ,  0.01679455, -0.04658587],\n",
       "       [-1.13750203,  0.05496398, -0.35715836],\n",
       "       [ 0.7284319 ,  0.05496398, -0.08540743],\n",
       "       [ 2.02023231,  0.05496398,  0.34162973],\n",
       "       [-0.92220196,  0.05496398,  0.18634349],\n",
       "       [ 0.7284319 ,  0.05496398,  0.22516505],\n",
       "       [-1.28103541,  0.05496398, -0.3183368 ],\n",
       "       [ 1.94846562,  0.09313341, -0.00776431],\n",
       "       [ 1.08726535,  0.09313341, -0.16305055],\n",
       "       [ 2.091999  ,  0.09313341, -0.27951524],\n",
       "       [ 1.94846562,  0.09313341, -0.08540743],\n",
       "       [ 1.87669894,  0.09313341,  0.06987881],\n",
       "       [-1.42456879,  0.09313341,  0.14752193],\n",
       "       [-0.06100169,  0.13130284, -0.3183368 ],\n",
       "       [-1.42456879,  0.13130284, -0.16305055],\n",
       "       [-1.49633548,  0.16947227, -0.08540743],\n",
       "       [-1.42456879,  0.16947227, -0.00776431],\n",
       "       [ 1.73316556,  0.16947227, -0.27951524],\n",
       "       [ 0.7284319 ,  0.16947227,  0.34162973],\n",
       "       [ 0.87196528,  0.24581112, -0.27951524],\n",
       "       [ 0.80019859,  0.24581112,  0.26398661],\n",
       "       [-0.85043527,  0.24581112,  0.22516505],\n",
       "       [-0.06100169,  0.24581112, -0.39597992],\n",
       "       [ 0.08253169,  0.32214998,  0.30280817],\n",
       "       [ 0.010765  ,  0.32214998,  1.58391968],\n",
       "       [-1.13750203,  0.36031941, -0.82301709],\n",
       "       [-0.56336851,  0.36031941,  1.04041783],\n",
       "       [ 0.29783176,  0.39848884, -0.59008772],\n",
       "       [ 0.08253169,  0.39848884,  1.73920592],\n",
       "       [ 1.4460988 ,  0.39848884, -1.52180518],\n",
       "       [-0.06100169,  0.39848884,  0.96277471],\n",
       "       [ 0.58489852,  0.39848884, -1.5994483 ],\n",
       "       [ 0.010765  ,  0.39848884,  0.96277471],\n",
       "       [-0.99396865,  0.43665827, -0.62890928],\n",
       "       [-0.56336851,  0.43665827,  0.80748846],\n",
       "       [-1.3528021 ,  0.4748277 , -1.75473454],\n",
       "       [-0.70690189,  0.4748277 ,  1.46745499],\n",
       "       [ 0.36959845,  0.4748277 , -1.67709142],\n",
       "       [-0.49160182,  0.4748277 ,  0.88513158],\n",
       "       [-1.42456879,  0.51299713, -1.56062674],\n",
       "       [-0.27630176,  0.51299713,  0.84631002],\n",
       "       [ 1.30256542,  0.55116656, -1.75473454],\n",
       "       [-0.49160182,  0.55116656,  1.6615628 ],\n",
       "       [-0.77866858,  0.58933599, -0.39597992],\n",
       "       [-0.49160182,  0.58933599,  1.42863343],\n",
       "       [-0.99396865,  0.62750542, -1.48298362],\n",
       "       [-0.77866858,  0.62750542,  1.81684904],\n",
       "       [ 0.65666521,  0.62750542, -0.55126616],\n",
       "       [-0.49160182,  0.62750542,  0.92395314],\n",
       "       [-0.34806844,  0.66567484, -1.09476801],\n",
       "       [-0.34806844,  0.66567484,  1.54509812],\n",
       "       [ 0.29783176,  0.66567484, -1.28887582],\n",
       "       [ 0.010765  ,  0.66567484,  1.46745499],\n",
       "       [ 0.36959845,  0.66567484, -1.17241113],\n",
       "       [-0.06100169,  0.66567484,  1.00159627],\n",
       "       [ 0.58489852,  0.66567484, -1.32769738],\n",
       "       [-0.85043527,  0.66567484,  1.50627656],\n",
       "       [-0.13276838,  0.66567484, -1.91002079],\n",
       "       [-0.6351352 ,  0.66567484,  1.07923939],\n",
       "       [-0.34806844,  0.66567484, -1.91002079],\n",
       "       [-0.6351352 ,  0.66567484,  0.88513158],\n",
       "       [ 1.23079873,  0.70384427, -0.59008772],\n",
       "       [-0.70690189,  0.70384427,  1.27334719],\n",
       "       [-1.42456879,  0.78018313, -1.75473454],\n",
       "       [-0.56336851,  0.78018313,  1.6615628 ],\n",
       "       [ 0.80019859,  0.93286085, -0.93948177],\n",
       "       [-0.20453507,  0.93286085,  0.96277471],\n",
       "       [ 0.22606507,  0.97103028, -1.17241113],\n",
       "       [-0.41983513,  0.97103028,  1.73920592],\n",
       "       [-0.20453507,  1.00919971, -0.90066021],\n",
       "       [-0.49160182,  1.00919971,  0.49691598],\n",
       "       [ 0.08253169,  1.00919971, -1.44416206],\n",
       "       [-0.77866858,  1.00919971,  0.96277471],\n",
       "       [-0.20453507,  1.00919971, -1.56062674],\n",
       "       [-0.20453507,  1.00919971,  1.62274124],\n",
       "       [ 0.94373197,  1.04736914, -1.44416206],\n",
       "       [-0.6351352 ,  1.04736914,  1.38981187],\n",
       "       [ 1.37433211,  1.04736914, -1.36651894],\n",
       "       [-0.85043527,  1.04736914,  0.72984534],\n",
       "       [ 1.4460988 ,  1.23821628, -1.4053405 ],\n",
       "       [-0.27630176,  1.23821628,  1.54509812],\n",
       "       [-0.13276838,  1.390894  , -0.7065524 ],\n",
       "       [-0.49160182,  1.390894  ,  1.38981187],\n",
       "       [ 0.51313183,  1.42906343, -1.36651894],\n",
       "       [-0.70690189,  1.42906343,  1.46745499],\n",
       "       [ 0.15429838,  1.46723286, -0.43480148],\n",
       "       [-0.6351352 ,  1.46723286,  1.81684904],\n",
       "       [ 1.08726535,  1.54357172, -1.01712489],\n",
       "       [-0.77866858,  1.54357172,  0.69102378],\n",
       "       [ 0.15429838,  1.61991057, -1.28887582],\n",
       "       [-0.20453507,  1.61991057,  1.35099031],\n",
       "       [-0.34806844,  1.61991057, -1.05594645],\n",
       "       [-0.49160182,  1.61991057,  0.72984534],\n",
       "       [-0.41983513,  2.00160487, -1.63826986],\n",
       "       [-0.06100169,  2.00160487,  1.58391968],\n",
       "       [ 0.58489852,  2.26879087, -1.32769738],\n",
       "       [-0.27630176,  2.26879087,  1.11806095],\n",
       "       [ 0.44136514,  2.49780745, -0.86183865],\n",
       "       [-0.49160182,  2.49780745,  0.92395314],\n",
       "       [-0.49160182,  2.91767117, -1.25005425],\n",
       "       [-0.6351352 ,  2.91767117,  1.27334719]])"
      ]
     },
     "execution_count": 12,
     "metadata": {},
     "output_type": "execute_result"
    }
   ],
   "source": [
    "x1=ss.fit_transform(x)\n",
    "x1"
   ]
  },
  {
   "cell_type": "markdown",
   "id": "665d92df-d9ae-47a1-b5a1-38088fb5e705",
   "metadata": {},
   "source": [
    "# model"
   ]
  },
  {
   "cell_type": "code",
   "execution_count": 13,
   "id": "7d9968bc-c679-4a80-b21c-fcdc45c22db1",
   "metadata": {},
   "outputs": [],
   "source": [
    "from sklearn.cluster import AgglomerativeClustering"
   ]
  },
  {
   "cell_type": "code",
   "execution_count": 28,
   "id": "331e7c4c-2877-4f23-9d28-bae80258379b",
   "metadata": {},
   "outputs": [],
   "source": [
    "ag=AgglomerativeClustering(n_clusters=4)"
   ]
  },
  {
   "cell_type": "code",
   "execution_count": 29,
   "id": "b478abf0-28c6-4f71-a2ab-f15e6a71de51",
   "metadata": {},
   "outputs": [
    {
     "data": {
      "text/html": [
       "<style>#sk-container-id-2 {color: black;background-color: white;}#sk-container-id-2 pre{padding: 0;}#sk-container-id-2 div.sk-toggleable {background-color: white;}#sk-container-id-2 label.sk-toggleable__label {cursor: pointer;display: block;width: 100%;margin-bottom: 0;padding: 0.3em;box-sizing: border-box;text-align: center;}#sk-container-id-2 label.sk-toggleable__label-arrow:before {content: \"▸\";float: left;margin-right: 0.25em;color: #696969;}#sk-container-id-2 label.sk-toggleable__label-arrow:hover:before {color: black;}#sk-container-id-2 div.sk-estimator:hover label.sk-toggleable__label-arrow:before {color: black;}#sk-container-id-2 div.sk-toggleable__content {max-height: 0;max-width: 0;overflow: hidden;text-align: left;background-color: #f0f8ff;}#sk-container-id-2 div.sk-toggleable__content pre {margin: 0.2em;color: black;border-radius: 0.25em;background-color: #f0f8ff;}#sk-container-id-2 input.sk-toggleable__control:checked~div.sk-toggleable__content {max-height: 200px;max-width: 100%;overflow: auto;}#sk-container-id-2 input.sk-toggleable__control:checked~label.sk-toggleable__label-arrow:before {content: \"▾\";}#sk-container-id-2 div.sk-estimator input.sk-toggleable__control:checked~label.sk-toggleable__label {background-color: #d4ebff;}#sk-container-id-2 div.sk-label input.sk-toggleable__control:checked~label.sk-toggleable__label {background-color: #d4ebff;}#sk-container-id-2 input.sk-hidden--visually {border: 0;clip: rect(1px 1px 1px 1px);clip: rect(1px, 1px, 1px, 1px);height: 1px;margin: -1px;overflow: hidden;padding: 0;position: absolute;width: 1px;}#sk-container-id-2 div.sk-estimator {font-family: monospace;background-color: #f0f8ff;border: 1px dotted black;border-radius: 0.25em;box-sizing: border-box;margin-bottom: 0.5em;}#sk-container-id-2 div.sk-estimator:hover {background-color: #d4ebff;}#sk-container-id-2 div.sk-parallel-item::after {content: \"\";width: 100%;border-bottom: 1px solid gray;flex-grow: 1;}#sk-container-id-2 div.sk-label:hover label.sk-toggleable__label {background-color: #d4ebff;}#sk-container-id-2 div.sk-serial::before {content: \"\";position: absolute;border-left: 1px solid gray;box-sizing: border-box;top: 0;bottom: 0;left: 50%;z-index: 0;}#sk-container-id-2 div.sk-serial {display: flex;flex-direction: column;align-items: center;background-color: white;padding-right: 0.2em;padding-left: 0.2em;position: relative;}#sk-container-id-2 div.sk-item {position: relative;z-index: 1;}#sk-container-id-2 div.sk-parallel {display: flex;align-items: stretch;justify-content: center;background-color: white;position: relative;}#sk-container-id-2 div.sk-item::before, #sk-container-id-2 div.sk-parallel-item::before {content: \"\";position: absolute;border-left: 1px solid gray;box-sizing: border-box;top: 0;bottom: 0;left: 50%;z-index: -1;}#sk-container-id-2 div.sk-parallel-item {display: flex;flex-direction: column;z-index: 1;position: relative;background-color: white;}#sk-container-id-2 div.sk-parallel-item:first-child::after {align-self: flex-end;width: 50%;}#sk-container-id-2 div.sk-parallel-item:last-child::after {align-self: flex-start;width: 50%;}#sk-container-id-2 div.sk-parallel-item:only-child::after {width: 0;}#sk-container-id-2 div.sk-dashed-wrapped {border: 1px dashed gray;margin: 0 0.4em 0.5em 0.4em;box-sizing: border-box;padding-bottom: 0.4em;background-color: white;}#sk-container-id-2 div.sk-label label {font-family: monospace;font-weight: bold;display: inline-block;line-height: 1.2em;}#sk-container-id-2 div.sk-label-container {text-align: center;}#sk-container-id-2 div.sk-container {/* jupyter's `normalize.less` sets `[hidden] { display: none; }` but bootstrap.min.css set `[hidden] { display: none !important; }` so we also need the `!important` here to be able to override the default hidden behavior on the sphinx rendered scikit-learn.org. See: https://github.com/scikit-learn/scikit-learn/issues/21755 */display: inline-block !important;position: relative;}#sk-container-id-2 div.sk-text-repr-fallback {display: none;}</style><div id=\"sk-container-id-2\" class=\"sk-top-container\"><div class=\"sk-text-repr-fallback\"><pre>AgglomerativeClustering(n_clusters=4)</pre><b>In a Jupyter environment, please rerun this cell to show the HTML representation or trust the notebook. <br />On GitHub, the HTML representation is unable to render, please try loading this page with nbviewer.org.</b></div><div class=\"sk-container\" hidden><div class=\"sk-item\"><div class=\"sk-estimator sk-toggleable\"><input class=\"sk-toggleable__control sk-hidden--visually\" id=\"sk-estimator-id-2\" type=\"checkbox\" checked><label for=\"sk-estimator-id-2\" class=\"sk-toggleable__label sk-toggleable__label-arrow\">AgglomerativeClustering</label><div class=\"sk-toggleable__content\"><pre>AgglomerativeClustering(n_clusters=4)</pre></div></div></div></div></div>"
      ],
      "text/plain": [
       "AgglomerativeClustering(n_clusters=4)"
      ]
     },
     "execution_count": 29,
     "metadata": {},
     "output_type": "execute_result"
    }
   ],
   "source": [
    "ag.fit(x1)"
   ]
  },
  {
   "cell_type": "code",
   "execution_count": 30,
   "id": "b10ed959-13e6-4828-97ff-a0978ef8a384",
   "metadata": {},
   "outputs": [
    {
     "data": {
      "text/plain": [
       "array([0, 1, 0, 1, 0, 1, 0, 1, 0, 1, 0, 1, 0, 1, 0, 1, 0, 1, 0, 1, 0, 1,\n",
       "       0, 1, 0, 1, 0, 1, 0, 1, 0, 1, 0, 1, 0, 1, 0, 1, 0, 1, 0, 1, 0, 1,\n",
       "       0, 1, 0, 1, 1, 1, 0, 1, 1, 0, 0, 0, 0, 0, 1, 0, 0, 1, 0, 0, 0, 1,\n",
       "       1, 0, 1, 1, 0, 0, 0, 0, 0, 1, 1, 1, 1, 0, 0, 1, 0, 0, 1, 0, 0, 1,\n",
       "       1, 0, 0, 1, 0, 1, 1, 1, 0, 1, 0, 1, 1, 0, 0, 1, 0, 1, 0, 0, 0, 0,\n",
       "       0, 1, 1, 1, 1, 1, 0, 0, 0, 0, 1, 1, 1, 2, 1, 2, 0, 2, 3, 2, 3, 2,\n",
       "       1, 2, 1, 2, 3, 2, 1, 2, 3, 2, 1, 2, 1, 2, 0, 2, 3, 2, 3, 2, 3, 2,\n",
       "       3, 2, 3, 2, 3, 2, 0, 2, 1, 2, 3, 2, 3, 2, 3, 2, 3, 2, 3, 2, 3, 2,\n",
       "       3, 2, 3, 2, 3, 2, 3, 2, 3, 2, 3, 2, 3, 2, 3, 2, 3, 2, 3, 2, 3, 2,\n",
       "       3, 2], dtype=int64)"
      ]
     },
     "execution_count": 30,
     "metadata": {},
     "output_type": "execute_result"
    }
   ],
   "source": [
    "label=ag.labels_\n",
    "label"
   ]
  },
  {
   "cell_type": "code",
   "execution_count": 18,
   "id": "716098cf-be62-4098-99cb-2dc4f164e6e5",
   "metadata": {},
   "outputs": [],
   "source": [
    "from sklearn.metrics import silhouette_score"
   ]
  },
  {
   "cell_type": "code",
   "execution_count": 31,
   "id": "2b3afb7d-1d3d-4397-b2ca-2e5a689fb314",
   "metadata": {},
   "outputs": [
    {
     "data": {
      "text/plain": [
       "0.3614512741691407"
      ]
     },
     "execution_count": 31,
     "metadata": {},
     "output_type": "execute_result"
    }
   ],
   "source": [
    "silhouette_score(x1,label)"
   ]
  },
  {
   "cell_type": "code",
   "execution_count": 21,
   "id": "8ed7d31a-f793-4b0c-a35f-9006b20b063d",
   "metadata": {},
   "outputs": [],
   "source": [
    "list=[]\n",
    "for i in range (2,50):\n",
    "    ag1=AgglomerativeClustering(n_clusters=i)\n",
    "    ag1.fit(x1)\n",
    "    label=ag1.labels_\n",
    "    score=silhouette_score(x1,label)\n",
    "    list.append(score)"
   ]
  },
  {
   "cell_type": "code",
   "execution_count": 22,
   "id": "e0928c6e-e0e5-4104-bded-b1f3f2a101cf",
   "metadata": {},
   "outputs": [
    {
     "data": {
      "text/plain": [
       "[0.31795733680759597,\n",
       " 0.32148866683112387,\n",
       " 0.3614512741691407,\n",
       " 0.39002826186267214,\n",
       " 0.4201169558789579,\n",
       " 0.3982948069934959,\n",
       " 0.36647935858620484,\n",
       " 0.3753854624760521,\n",
       " 0.3808885873908944,\n",
       " 0.38119813515480855,\n",
       " 0.3535716262087456,\n",
       " 0.35579016289204674,\n",
       " 0.35322985543969,\n",
       " 0.34543485589255823,\n",
       " 0.34274031436817265,\n",
       " 0.33922596294382956,\n",
       " 0.3439193827183536,\n",
       " 0.3419054931027718,\n",
       " 0.3336371121153862,\n",
       " 0.33638482160201344,\n",
       " 0.33370967676037083,\n",
       " 0.3315507121951903,\n",
       " 0.33221801786303273,\n",
       " 0.3308084556581654,\n",
       " 0.3204239631174473,\n",
       " 0.3256726178965973,\n",
       " 0.33296242570902845,\n",
       " 0.3336450124714297,\n",
       " 0.33152306153968153,\n",
       " 0.3266292919817394,\n",
       " 0.329729393574034,\n",
       " 0.32953006092577847,\n",
       " 0.3314878202208276,\n",
       " 0.33216426899052615,\n",
       " 0.33548430139297736,\n",
       " 0.336249295510262,\n",
       " 0.3416241152189674,\n",
       " 0.3471564232262452,\n",
       " 0.3477570768938514,\n",
       " 0.352582951015767,\n",
       " 0.3569297224779632,\n",
       " 0.35832353526301874,\n",
       " 0.3571279136804489,\n",
       " 0.3567919578271844,\n",
       " 0.3593133016967929,\n",
       " 0.3556825189637408,\n",
       " 0.3543132705624471,\n",
       " 0.35806798425091385]"
      ]
     },
     "execution_count": 22,
     "metadata": {},
     "output_type": "execute_result"
    }
   ],
   "source": [
    "list"
   ]
  },
  {
   "cell_type": "code",
   "execution_count": 24,
   "id": "30007908-c2ba-470c-a6c7-78636e2f2d28",
   "metadata": {},
   "outputs": [],
   "source": [
    "import matplotlib.pyplot as plt"
   ]
  },
  {
   "cell_type": "code",
   "execution_count": 27,
   "id": "03d53ee4-dcbd-48d8-93ca-5aabbc584a5b",
   "metadata": {},
   "outputs": [
    {
     "data": {
      "image/png": "[encoded data removed]",
      "text/plain": [
       "<Figure size 640x480 with 1 Axes>"
      ]
     },
     "metadata": {},
     "output_type": "display_data"
    }
   ],
   "source": [
    "plt.plot(list)\n",
    "plt.xticks(range(2,50))\n",
    "plt.grid()\n",
    "plt.show()"
   ]
  },
  {
   "cell_type": "code",
   "execution_count": 32,
   "id": "6f61c3fd-6961-4b4e-acd0-36837397b279",
   "metadata": {},
   "outputs": [],
   "source": [
    "df['label']=label"
   ]
  },
  {
   "cell_type": "code",
   "execution_count": 33,
   "id": "0d66f007-5a2e-499e-aaa3-0069e4ec20e8",
   "metadata": {},
   "outputs": [
    {
     "data": {
      "text/html": [
       "<div>\n",
       "<style scoped>\n",
       "    .dataframe tbody tr th:only-of-type {\n",
       "        vertical-align: middle;\n",
       "    }\n",
       "\n",
       "    .dataframe tbody tr th {\n",
       "        vertical-align: top;\n",
       "    }\n",
       "\n",
       "    .dataframe thead th {\n",
       "        text-align: right;\n",
       "    }\n",
       "</style>\n",
       "<table border=\"1\" class=\"dataframe\">\n",
       "  <thead>\n",
       "    <tr style=\"text-align: right;\">\n",
       "      <th></th>\n",
       "      <th>ID</th>\n",
       "      <th>Gender</th>\n",
       "      <th>Age</th>\n",
       "      <th>Annual</th>\n",
       "      <th>Spend</th>\n",
       "      <th>label</th>\n",
       "    </tr>\n",
       "  </thead>\n",
       "  <tbody>\n",
       "    <tr>\n",
       "      <th>0</th>\n",
       "      <td>1</td>\n",
       "      <td>Male</td>\n",
       "      <td>19</td>\n",
       "      <td>15</td>\n",
       "      <td>39</td>\n",
       "      <td>0</td>\n",
       "    </tr>\n",
       "    <tr>\n",
       "      <th>1</th>\n",
       "      <td>2</td>\n",
       "      <td>Male</td>\n",
       "      <td>21</td>\n",
       "      <td>15</td>\n",
       "      <td>81</td>\n",
       "      <td>1</td>\n",
       "    </tr>\n",
       "    <tr>\n",
       "      <th>2</th>\n",
       "      <td>3</td>\n",
       "      <td>Female</td>\n",
       "      <td>20</td>\n",
       "      <td>16</td>\n",
       "      <td>6</td>\n",
       "      <td>0</td>\n",
       "    </tr>\n",
       "    <tr>\n",
       "      <th>3</th>\n",
       "      <td>4</td>\n",
       "      <td>Female</td>\n",
       "      <td>23</td>\n",
       "      <td>16</td>\n",
       "      <td>77</td>\n",
       "      <td>1</td>\n",
       "    </tr>\n",
       "    <tr>\n",
       "      <th>4</th>\n",
       "      <td>5</td>\n",
       "      <td>Female</td>\n",
       "      <td>31</td>\n",
       "      <td>17</td>\n",
       "      <td>40</td>\n",
       "      <td>0</td>\n",
       "    </tr>\n",
       "    <tr>\n",
       "      <th>...</th>\n",
       "      <td>...</td>\n",
       "      <td>...</td>\n",
       "      <td>...</td>\n",
       "      <td>...</td>\n",
       "      <td>...</td>\n",
       "      <td>...</td>\n",
       "    </tr>\n",
       "    <tr>\n",
       "      <th>195</th>\n",
       "      <td>196</td>\n",
       "      <td>Female</td>\n",
       "      <td>35</td>\n",
       "      <td>120</td>\n",
       "      <td>79</td>\n",
       "      <td>2</td>\n",
       "    </tr>\n",
       "    <tr>\n",
       "      <th>196</th>\n",
       "      <td>197</td>\n",
       "      <td>Female</td>\n",
       "      <td>45</td>\n",
       "      <td>126</td>\n",
       "      <td>28</td>\n",
       "      <td>3</td>\n",
       "    </tr>\n",
       "    <tr>\n",
       "      <th>197</th>\n",
       "      <td>198</td>\n",
       "      <td>Male</td>\n",
       "      <td>32</td>\n",
       "      <td>126</td>\n",
       "      <td>74</td>\n",
       "      <td>2</td>\n",
       "    </tr>\n",
       "    <tr>\n",
       "      <th>198</th>\n",
       "      <td>199</td>\n",
       "      <td>Male</td>\n",
       "      <td>32</td>\n",
       "      <td>137</td>\n",
       "      <td>18</td>\n",
       "      <td>3</td>\n",
       "    </tr>\n",
       "    <tr>\n",
       "      <th>199</th>\n",
       "      <td>200</td>\n",
       "      <td>Male</td>\n",
       "      <td>30</td>\n",
       "      <td>137</td>\n",
       "      <td>83</td>\n",
       "      <td>2</td>\n",
       "    </tr>\n",
       "  </tbody>\n",
       "</table>\n",
       "<p>200 rows × 6 columns</p>\n",
       "</div>"
      ],
      "text/plain": [
       "      ID  Gender  Age  Annual  Spend  label\n",
       "0      1    Male   19      15     39      0\n",
       "1      2    Male   21      15     81      1\n",
       "2      3  Female   20      16      6      0\n",
       "3      4  Female   23      16     77      1\n",
       "4      5  Female   31      17     40      0\n",
       "..   ...     ...  ...     ...    ...    ...\n",
       "195  196  Female   35     120     79      2\n",
       "196  197  Female   45     126     28      3\n",
       "197  198    Male   32     126     74      2\n",
       "198  199    Male   32     137     18      3\n",
       "199  200    Male   30     137     83      2\n",
       "\n",
       "[200 rows x 6 columns]"
      ]
     },
     "execution_count": 33,
     "metadata": {},
     "output_type": "execute_result"
    }
   ],
   "source": [
    "df"
   ]
  },
  {
   "cell_type": "code",
   "execution_count": 39,
   "id": "acce4a98-ee91-4b0c-b756-e50539e73116",
   "metadata": {},
   "outputs": [
    {
     "data": {
      "text/html": [
       "<div>\n",
       "<style scoped>\n",
       "    .dataframe tbody tr th:only-of-type {\n",
       "        vertical-align: middle;\n",
       "    }\n",
       "\n",
       "    .dataframe tbody tr th {\n",
       "        vertical-align: top;\n",
       "    }\n",
       "\n",
       "    .dataframe thead th {\n",
       "        text-align: right;\n",
       "    }\n",
       "</style>\n",
       "<table border=\"1\" class=\"dataframe\">\n",
       "  <thead>\n",
       "    <tr style=\"text-align: right;\">\n",
       "      <th></th>\n",
       "      <th>ID</th>\n",
       "      <th>Gender</th>\n",
       "      <th>Age</th>\n",
       "      <th>Annual</th>\n",
       "      <th>Spend</th>\n",
       "    </tr>\n",
       "    <tr>\n",
       "      <th>label</th>\n",
       "      <th></th>\n",
       "      <th></th>\n",
       "      <th></th>\n",
       "      <th></th>\n",
       "      <th></th>\n",
       "    </tr>\n",
       "  </thead>\n",
       "  <tbody>\n",
       "    <tr>\n",
       "      <th>0</th>\n",
       "      <td>161</td>\n",
       "      <td>Male</td>\n",
       "      <td>70</td>\n",
       "      <td>79</td>\n",
       "      <td>60</td>\n",
       "    </tr>\n",
       "    <tr>\n",
       "      <th>1</th>\n",
       "      <td>163</td>\n",
       "      <td>Male</td>\n",
       "      <td>45</td>\n",
       "      <td>81</td>\n",
       "      <td>99</td>\n",
       "    </tr>\n",
       "    <tr>\n",
       "      <th>2</th>\n",
       "      <td>200</td>\n",
       "      <td>Male</td>\n",
       "      <td>40</td>\n",
       "      <td>137</td>\n",
       "      <td>97</td>\n",
       "    </tr>\n",
       "    <tr>\n",
       "      <th>3</th>\n",
       "      <td>199</td>\n",
       "      <td>Male</td>\n",
       "      <td>59</td>\n",
       "      <td>137</td>\n",
       "      <td>39</td>\n",
       "    </tr>\n",
       "  </tbody>\n",
       "</table>\n",
       "</div>"
      ],
      "text/plain": [
       "        ID Gender  Age  Annual  Spend\n",
       "label                                \n",
       "0      161   Male   70      79     60\n",
       "1      163   Male   45      81     99\n",
       "2      200   Male   40     137     97\n",
       "3      199   Male   59     137     39"
      ]
     },
     "execution_count": 39,
     "metadata": {},
     "output_type": "execute_result"
    }
   ],
   "source": [
    "result=df.groupby(by=['label']).max()\n",
    "result"
   ]
  },
  {
   "cell_type": "markdown",
   "id": "b5431aca-2580-46a1-b21c-491af48cd20c",
   "metadata": {},
   "source": [
    "# plotting Dendogram"
   ]
  },
  {
   "cell_type": "code",
   "execution_count": 40,
   "id": "3f04abbc-c57f-4bbd-bece-c88b888fec95",
   "metadata": {},
   "outputs": [
    {
     "data": {
      "text/plain": [
       "array([[  0.        ,  42.04759208,  33.03028913, ..., 117.1110584 ,\n",
       "        124.47489707, 130.15759678],\n",
       "       [ 42.04759208,   0.        ,  75.01333215, ..., 111.7631424 ,\n",
       "        137.74614332, 122.34786471],\n",
       "       [ 33.03028913,  75.01333215,   0.        , ..., 129.87686476,\n",
       "        122.18428704, 143.77065069],\n",
       "       ...,\n",
       "       [117.1110584 , 111.7631424 , 129.87686476, ...,   0.        ,\n",
       "         57.07013229,  14.35270009],\n",
       "       [124.47489707, 137.74614332, 122.18428704, ...,  57.07013229,\n",
       "          0.        ,  65.03076195],\n",
       "       [130.15759678, 122.34786471, 143.77065069, ...,  14.35270009,\n",
       "         65.03076195,   0.        ]])"
      ]
     },
     "execution_count": 40,
     "metadata": {},
     "output_type": "execute_result"
    }
   ],
   "source": [
    "from scipy.spatial import distance_matrix\n",
    "dm=distance_matrix(x,x)\n",
    "dm"
   ]
  },
  {
   "cell_type": "code",
   "execution_count": 55,
   "id": "877b292d-8c28-4700-ad95-b45c384a116a",
   "metadata": {},
   "outputs": [
    {
     "name": "stderr",
     "output_type": "stream",
     "text": [
      "C:\\Users\\Sanskar\\AppData\\Local\\Temp\\ipykernel_660\\1819732388.py:2: ClusterWarning: scipy.cluster: The symmetric non-negative hollow observation matrix looks suspiciously like an uncondensed distance matrix\n",
      "  link=linkage(dm,method='average')\n"
     ]
    }
   ],
   "source": [
    "from scipy.cluster.hierarchy import linkage\n",
    "link=linkage(dm,method='average')"
   ]
  },
  {
   "cell_type": "code",
   "execution_count": 56,
   "id": "2bb5a99d-5857-4eb8-93ff-873c6887fbd9",
   "metadata": {},
   "outputs": [],
   "source": [
    "from scipy.cluster.hierarchy import dendrogram"
   ]
  },
  {
   "cell_type": "code",
   "execution_count": 57,
   "id": "d9416e20-651f-42bb-80af-e2127cad86a9",
   "metadata": {},
   "outputs": [
    {
     "data": {
      "image/png": "[encoded data removed]",
      "text/plain": [
       "<Figure size 640x480 with 1 Axes>"
      ]
     },
     "metadata": {},
     "output_type": "display_data"
    }
   ],
   "source": [
    "q=dendrogram(link)"
   ]
  },
  {
   "cell_type": "code",
   "execution_count": 58,
   "id": "29abf758-1e78-4f8f-a786-9bff23ca9324",
   "metadata": {},
   "outputs": [],
   "source": [
    "import seaborn as sns"
   ]
  },
  {
   "cell_type": "code",
   "execution_count": 59,
   "id": "be5084d3-c081-479e-b8ea-bf0adf1faf57",
   "metadata": {},
   "outputs": [
    {
     "data": {
      "text/plain": [
       "<Axes: xlabel='Annual', ylabel='Spend'>"
      ]
     },
     "execution_count": 59,
     "metadata": {},
     "output_type": "execute_result"
    },
    {
     "data": {
      "image/png": "[encoded data removed]",
      "text/plain": [
       "<Figure size 640x480 with 1 Axes>"
      ]
     },
     "metadata": {},
     "output_type": "display_data"
    }
   ],
   "source": [
    "sns.scatterplot(x=df['Annual'],y=df['Spend'],hue=label,palette='deep')"
   ]
  },
  {
   "cell_type": "code",
   "execution_count": null,
   "id": "68455bc7-e4db-46cd-b650-50dfa9fda052",
   "metadata": {},
   "outputs": [],
   "source": []
  }
 ],
 "metadata": {
  "kernelspec": {
   "display_name": "Python 3 (ipykernel)",
   "language": "python",
   "name": "python3"
  },
  "language_info": {
   "codemirror_mode": {
    "name": "ipython",
    "version": 3
   },
   "file_extension": ".py",
   "mimetype": "text/x-python",
   "name": "python",
   "nbconvert_exporter": "python",
   "pygments_lexer": "ipython3",
   "version": "3.11.7"
  }
 },
 "nbformat": 4,
 "nbformat_minor": 5
}
